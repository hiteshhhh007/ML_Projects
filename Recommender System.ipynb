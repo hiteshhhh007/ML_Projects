{
 "cells": [
  {
   "cell_type": "code",
   "execution_count": 2,
   "metadata": {},
   "outputs": [],
   "source": [
    "import numpy as np\n",
    "import pandas as pd"
   ]
  },
  {
   "cell_type": "code",
   "execution_count": 3,
   "metadata": {},
   "outputs": [],
   "source": [
    "moviedf=pd.read_csv('')\n",
    "creditsdf=pd.read_csv('')\n",
    "#Add the path"
   ]
  },
  {
   "cell_type": "code",
   "execution_count": 1,
   "metadata": {},
   "outputs": [],
   "source": [
    "moviedf.head(1)\n",
    "#Shows the first row of the dataset"
   ]
  },
  {
   "cell_type": "code",
   "execution_count": null,
   "metadata": {},
   "outputs": [],
   "source": [
    "creditsdf['crew'][0]\n",
    "#Shows the crew of the first movie"
   ]
  },
  {
   "cell_type": "code",
   "execution_count": 6,
   "metadata": {},
   "outputs": [],
   "source": [
    "moviedf=moviedf.merge(creditsdf,on='title')"
   ]
  },
  {
   "cell_type": "code",
   "execution_count": null,
   "metadata": {},
   "outputs": [],
   "source": [
    "moviedf.head(1)\n",
    "#Shows the first row of the dataset after merging\n",
    "#Removing the unnecessary columns like budget,homepage ,popularity,production companies,production countries,spoken languages,status,tagline,keywords,"
   ]
  },
  {
   "cell_type": "code",
   "execution_count": null,
   "metadata": {},
   "outputs": [],
   "source": [
    "moviedf['original_language'].value_counts()"
   ]
  },
  {
   "cell_type": "code",
   "execution_count": null,
   "metadata": {},
   "outputs": [],
   "source": [
    "moviedf.info()"
   ]
  },
  {
   "cell_type": "code",
   "execution_count": null,
   "metadata": {},
   "outputs": [],
   "source": [
    "moviedf=moviedf[['genres','id','overview','keywords','title','vote_average','vote_count','cast','crew']]\n",
    "moviedf"
   ]
  },
  {
   "attachments": {},
   "cell_type": "markdown",
   "metadata": {},
   "source": [
    "Data Preprocessing"
   ]
  },
  {
   "cell_type": "code",
   "execution_count": null,
   "metadata": {},
   "outputs": [],
   "source": [
    "moviedf.isnull().sum()\n",
    "#Shows the number of null values in each column"
   ]
  },
  {
   "cell_type": "code",
   "execution_count": 12,
   "metadata": {},
   "outputs": [],
   "source": [
    "moviedf.dropna(inplace=True)\n",
    "#Drops the null values"
   ]
  },
  {
   "cell_type": "code",
   "execution_count": null,
   "metadata": {},
   "outputs": [],
   "source": [
    "moviedf.duplicated().sum()\n",
    "#Shows the number of duplicate values/"
   ]
  },
  {
   "cell_type": "code",
   "execution_count": null,
   "metadata": {},
   "outputs": [],
   "source": [
    "moviedf.iloc[0].genres"
   ]
  },
  {
   "cell_type": "code",
   "execution_count": null,
   "metadata": {},
   "outputs": [],
   "source": [
    "import ast\n",
    "ast.literal_eval(moviedf.iloc[0].genres)\n",
    "#Converts the string into dictionary"
   ]
  },
  {
   "cell_type": "code",
   "execution_count": null,
   "metadata": {},
   "outputs": [],
   "source": [
    "def convert(obj):\n",
    "    l=[]\n",
    "    for i in ast.literal_eval(obj):\n",
    "        l.append(i['name'])\n",
    "    return l\n",
    "#convert the string into list of dictionaries\n",
    "moviedf['genres']=moviedf['genres'].apply(convert)\n",
    "#Apply the function to the genres column\n"
   ]
  },
  {
   "cell_type": "code",
   "execution_count": null,
   "metadata": {},
   "outputs": [],
   "source": [
    "moviedf.head(1)"
   ]
  },
  {
   "cell_type": "code",
   "execution_count": null,
   "metadata": {},
   "outputs": [],
   "source": [
    "moviedf['keywords']=moviedf['keywords'].apply(convert)\n",
    "#Apply the function to the keywords column\n",
    "moviedf['cast']=moviedf['cast'].apply(convert)\n",
    "#Apply the function to the cast column\n",
    "#moviedf['overview']=moviedf['overview'].apply(convert)\n",
    "moviedf['crew'][0]"
   ]
  },
  {
   "cell_type": "code",
   "execution_count": null,
   "metadata": {},
   "outputs": [],
   "source": [
    "def director(obj):\n",
    "    L=[]\n",
    "    for i in ast.literal_eval(obj):\n",
    "        if i['job']==\"Director\":\n",
    "            L.append(i['name'])\n",
    "            break\n",
    "    return L\n",
    "#Function to get only the director name"
   ]
  },
  {
   "cell_type": "code",
   "execution_count": null,
   "metadata": {},
   "outputs": [],
   "source": [
    "moviedf['crew']=moviedf['crew'].apply(director)"
   ]
  },
  {
   "cell_type": "code",
   "execution_count": null,
   "metadata": {},
   "outputs": [],
   "source": [
    "moviedf.head()"
   ]
  },
  {
   "cell_type": "code",
   "execution_count": null,
   "metadata": {},
   "outputs": [],
   "source": [
    "moviedf['overview']=moviedf['overview'].apply(lambda x:x.split())\n",
    "\n"
   ]
  },
  {
   "cell_type": "code",
   "execution_count": null,
   "metadata": {},
   "outputs": [],
   "source": [
    "\n",
    "#Now we need to remove the spaces between names in order for the model not to get confused with the names. For eg:\n",
    "#Samuel L. Jackson and Samuel L Jackson are two different people but the model will treat them as the same person. So we need to remove the spaces between the names.\n",
    "moviedf['cast']=moviedf['cast'].apply(lambda x:[i.replace(\" \",\"\") for i in x])\n",
    "moviedf['crew']=moviedf['crew'].apply(lambda x:[i.replace(\" \",\"\") for i in x])\n",
    "moviedf['keywords']=moviedf['keywords'].apply(lambda x:[i.replace(\" \",\"\") for i in x])\n",
    "moviedf['genres']=moviedf['genres'].apply(lambda x:[i.replace(\" \",\"\") for i in x])\n",
    "moviedf.head()"
   ]
  },
  {
   "cell_type": "code",
   "execution_count": null,
   "metadata": {},
   "outputs": [],
   "source": [
    "moviedf['tags']=moviedf['overview']+moviedf['keywords']+moviedf['cast']+moviedf['crew']+moviedf['genres']\n",
    "moviedf.head()"
   ]
  },
  {
   "cell_type": "code",
   "execution_count": null,
   "metadata": {},
   "outputs": [],
   "source": [
    "movies_new_df=moviedf[['id','vote_average','title','vote_count','tags']]\n",
    "movies_new_df.head()"
   ]
  },
  {
   "cell_type": "code",
   "execution_count": null,
   "metadata": {},
   "outputs": [],
   "source": [
    "movies_new_df['tags']=movies_new_df['tags'].apply(lambda x:\" \".join(x))\n",
    "movies_new_df.head()"
   ]
  },
  {
   "cell_type": "code",
   "execution_count": null,
   "metadata": {},
   "outputs": [],
   "source": [
    "movies_new_df['tags']=movies_new_df['tags'].apply(lambda x:x.lower())\n",
    "#It is recommended to convert the tags into lower case as the model will not be able to differentiate between the upper and lower case letters.\n",
    "movies_new_df['tags'][0]"
   ]
  },
  {
   "attachments": {},
   "cell_type": "markdown",
   "metadata": {},
   "source": [
    "Vectorization of text"
   ]
  },
  {
   "cell_type": "code",
   "execution_count": null,
   "metadata": {},
   "outputs": [],
   "source": [
    "from sklearn.feature_extraction.text import CountVectorizer\n",
    "cv=CountVectorizer(max_features=5000,stop_words='english')\n",
    "#max_features is the number of words we want to consider in the model\n",
    "#stop_words is the words we want to remove from the model\n",
    "#We can also use TfidfVectorizer instead of CountVectorizer\n",
    "#TfidfVectorizer is used to give more weightage to the words which are more important and less weightage to the words which are less important.\n",
    "\n",
    "vectormovie=cv.fit_transform(movies_new_df['tags']).toarray()\n",
    "#It will convert the tags into vectors\n"
   ]
  },
  {
   "cell_type": "code",
   "execution_count": null,
   "metadata": {},
   "outputs": [],
   "source": [
    "vectormovie[0]"
   ]
  },
  {
   "cell_type": "code",
   "execution_count": null,
   "metadata": {},
   "outputs": [],
   "source": [
    "\n",
    "cv.get_feature_names_out()\n",
    "#It will show the words which are considered in the model"
   ]
  },
  {
   "cell_type": "code",
   "execution_count": null,
   "metadata": {},
   "outputs": [],
   "source": [
    "import re\n",
    "from nltk.stem.porter import PorterStemmer\n",
    "ps=PorterStemmer()\n",
    "#It is used to convert the words into their root words. For eg: loved will be converted to love\n",
    "#It is not necessary to use PorterStemmer but it is recommended to use it as it will reduce the number of words in the model.\n",
    "def stemming(content):\n",
    "    y=[]\n",
    "    for i in content.split():\n",
    "        y.append(ps.stem(i))\n",
    "    return \" \".join(y)\n",
    "movies_new_df['tags']=movies_new_df['tags'].apply(stemming)\n",
    "movies_new_df['tags'][0]"
   ]
  },
  {
   "cell_type": "code",
   "execution_count": 32,
   "metadata": {},
   "outputs": [],
   "source": [
    "from sklearn.feature_extraction.text import CountVectorizer\n",
    "cv=CountVectorizer(max_features=5000,stop_words='english')\n",
    "vectormovie=cv.fit_transform(movies_new_df['tags']).toarray()"
   ]
  },
  {
   "cell_type": "code",
   "execution_count": null,
   "metadata": {},
   "outputs": [],
   "source": [
    "\n",
    "cv.get_feature_names_out()\n",
    "#It will show the words which are considered in the model"
   ]
  },
  {
   "cell_type": "code",
   "execution_count": null,
   "metadata": {},
   "outputs": [],
   "source": [
    "from sklearn.metrics.pairwise import cosine_similarity\n",
    "similar=cosine_similarity(vectormovie)\n",
    "#This will calculate the similarity between the vectors and if the distance is less then it is more related to the  movie so hence it will be recommended to the user.\n",
    "similar\n"
   ]
  },
  {
   "cell_type": "code",
   "execution_count": null,
   "metadata": {},
   "outputs": [],
   "source": [
    "#We now create a recommneder function which will recommend the movies to the user based on the movie he has watched.\n",
    "def recommend_movie(movie):\n",
    "    movieindex=movies_new_df[movies_new_df['title']==movie].index[0]\n",
    "    #It will get the index of the movie which the user has watched\n",
    "    distance=similar[movieindex]\n",
    "    #It will get the distance of the movie which the user has watched\n",
    "    movieslist=sorted(list(enumerate(distance)),reverse=True,key=lambda x:x[1])[1:6]\n",
    "    #lambda x:x[1] is used to sort the movies based on the distance NOT ON INDEX.\n",
    "    #It will sort the movies based on the distance keeping the index same\n",
    "    #This is why enumerate functon is used.\n",
    "    for i in movieslist:\n",
    "        print(movies_new_df.iloc[i[0]].title)\n",
    "\n",
    "recommend_movie('The Avengers')"
   ]
  },
  {
   "cell_type": "code",
   "execution_count": 38,
   "metadata": {},
   "outputs": [],
   "source": [
    "import pickle\n",
    "pickle.dump(movies_new_df.to_dict(),open('movies.pkl','wb'))"
   ]
  },
  {
   "cell_type": "code",
   "execution_count": 39,
   "metadata": {},
   "outputs": [],
   "source": [
    "pickle.dump(similar,open('similarity.pkl','wb'))"
   ]
  },
  {
   "cell_type": "code",
   "execution_count": null,
   "metadata": {},
   "outputs": [],
   "source": [

   ]
  },
  {
   "cell_type": "code",
   "execution_count": null,
   "metadata": {},
   "outputs": [],
   "source": []
  }
 ],
 "metadata": {
  "kernelspec": {
   "display_name": "Python 3",
   "language": "python",
   "name": "python3"
  },
  "language_info": {
   "codemirror_mode": {
    "name": "ipython",
    "version": 3
   },
   "file_extension": ".py",
   "mimetype": "text/x-python",
   "name": "python",
   "nbconvert_exporter": "python",
   "pygments_lexer": "ipython3",
   "version": "3.10.4"
  },
  "orig_nbformat": 4
 },
 "nbformat": 4,
 "nbformat_minor": 2
}
